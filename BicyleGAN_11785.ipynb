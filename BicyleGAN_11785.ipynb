{
 "cells": [
  {
   "cell_type": "markdown",
   "metadata": {
    "id": "PGiE_azRyatN"
   },
   "source": [
    "# 11785 Fall 2024 Project\n",
    "#Group XV"
   ]
  },
  {
   "cell_type": "code",
   "execution_count": null,
   "metadata": {
    "id": "AhSmnLI0yo-7"
   },
   "outputs": [],
   "source": [
    "# install libraries\n",
    "!pip install torch torchmetrics --q\n",
    "!pip install wandb --quiet\n",
    "!pip install pytorch-msssim --q\n"
   ]
  },
  {
   "cell_type": "markdown",
   "metadata": {
    "id": "rNDJLeigYU3t"
   },
   "source": [
    "# Import Libraries"
   ]
  },
  {
   "cell_type": "code",
   "execution_count": null,
   "metadata": {
    "id": "xyP6fCaSyQEW"
   },
   "outputs": [],
   "source": [
    "# import libraries\n",
    "import torch\n",
    "import torch.nn as nn\n",
    "import torch.optim as optim\n",
    "import torch.nn.functional as F\n",
    "from torch.utils.data import Dataset, DataLoader, Subset\n",
    "import torchvision.transforms as transforms\n",
    "from torchvision.transforms.functional import to_pil_image\n",
    "# from torchvision.utils import make_grid\n",
    "import torchvision.utils as vutils\n",
    "import numpy as np\n",
    "import matplotlib.pyplot as plt\n",
    "from PIL import Image\n",
    "import os\n",
    "from pathlib import Path\n",
    "\n",
    "import random\n",
    "from sklearn.model_selection import train_test_split\n",
    "from pytorch_msssim import ssim\n",
    "\n",
    "# from torchmetrics.functional import structural_similarity_index_measure as ssim\n",
    "\n"
   ]
  },
  {
   "cell_type": "code",
   "execution_count": null,
   "metadata": {
    "colab": {
     "base_uri": "https://localhost:8080/"
    },
    "id": "VcYUbuIGb9uY",
    "outputId": "690a42aa-3d90-4c68-c5ce-b8c2ca734224"
   },
   "outputs": [
    {
     "name": "stdout",
     "output_type": "stream",
     "text": [
      "Mon Nov  4 16:54:57 2024       \n",
      "+---------------------------------------------------------------------------------------+\n",
      "| NVIDIA-SMI 535.104.05             Driver Version: 535.104.05   CUDA Version: 12.2     |\n",
      "|-----------------------------------------+----------------------+----------------------+\n",
      "| GPU  Name                 Persistence-M | Bus-Id        Disp.A | Volatile Uncorr. ECC |\n",
      "| Fan  Temp   Perf          Pwr:Usage/Cap |         Memory-Usage | GPU-Util  Compute M. |\n",
      "|                                         |                      |               MIG M. |\n",
      "|=========================================+======================+======================|\n",
      "|   0  Tesla T4                       Off | 00000000:00:04.0 Off |                    0 |\n",
      "| N/A   78C    P0              68W /  70W |   5971MiB / 15360MiB |    100%      Default |\n",
      "|                                         |                      |                  N/A |\n",
      "+-----------------------------------------+----------------------+----------------------+\n",
      "                                                                                         \n",
      "+---------------------------------------------------------------------------------------+\n",
      "| Processes:                                                                            |\n",
      "|  GPU   GI   CI        PID   Type   Process name                            GPU Memory |\n",
      "|        ID   ID                                                             Usage      |\n",
      "|=======================================================================================|\n",
      "+---------------------------------------------------------------------------------------+\n",
      "Device:  cuda\n"
     ]
    }
   ],
   "source": [
    "!nvidia-smi\n",
    "device = 'cuda' if torch.cuda.is_available() else 'cpu'\n",
    "print(\"Device: \", device)"
   ]
  },
  {
   "cell_type": "markdown",
   "metadata": {
    "id": "xR-_MHIeachp"
   },
   "source": [
    "# Dataset\n"
   ]
  },
  {
   "cell_type": "code",
   "execution_count": null,
   "metadata": {
    "id": "VLMcRlc-ytmC"
   },
   "outputs": [],
   "source": [
    "# # unzip dataset\n",
    "# !unzip -q /content/ProstateCancerDataset.zip\n",
    "# !ls"
   ]
  },
  {
   "cell_type": "markdown",
   "metadata": {
    "id": "8SuzmJwUahhQ"
   },
   "source": [
    "# Config"
   ]
  },
  {
   "cell_type": "code",
   "execution_count": null,
   "metadata": {
    "id": "Ma8QtQESzCyd"
   },
   "outputs": [],
   "source": [
    "# configs\n",
    "config ={\n",
    "    \"dataset_dir\" : '/content/ProstateCancerDataset',\n",
    "    \"epochs\" : 200,\n",
    "    \"lr\": 0.1,\n",
    "    \"batch_size\" : 1,  # BicycleGAN typically uses batch size of 1\n",
    "    \"num_workers\" : 4,\n",
    "    \"random_seed\": 42,\n",
    "    \"max_grad_norm\": 0.1,\n",
    "    \"img_size\": 256\n",
    "\n",
    "\n",
    "}"
   ]
  },
  {
   "cell_type": "markdown",
   "metadata": {
    "id": "AEH1wIOuaq89"
   },
   "source": [
    "# Data Loading"
   ]
  },
  {
   "cell_type": "code",
   "execution_count": null,
   "metadata": {
    "id": "0sMQJKxnStg2"
   },
   "outputs": [],
   "source": [
    "\n",
    "class MRIDataset(Dataset):\n",
    "    def __init__(self, dataset_dir, transform=None, img_size=256):\n",
    "        self.root_dir = dataset_dir\n",
    "        self.transform = transform\n",
    "        self.img_size = img_size\n",
    "        # create resize transform\n",
    "        self.resize = transforms.Compose([\n",
    "            transforms.Resize((img_size, img_size), antialias=True),\n",
    "        ])\n",
    "\n",
    "        # collect all slices\n",
    "        self.slices = []\n",
    "\n",
    "        # Scan directories\n",
    "        adc_dir = os.path.join(dataset_dir, \"ADC\")\n",
    "        for patient_dir in sorted(os.listdir(adc_dir)):\n",
    "            patient_adc_dir = os.path.join(adc_dir, patient_dir)\n",
    "            patient_t2w_dir = os.path.join(dataset_dir, \"T2w_Type\",\n",
    "                                         patient_dir.replace('_adc', '_t2w'))\n",
    "\n",
    "            if os.path.exists(patient_t2w_dir):\n",
    "                adc_files = sorted([f for f in os.listdir(patient_adc_dir)\n",
    "                                  if os.path.isfile(os.path.join(patient_adc_dir, f))])\n",
    "                t2w_files = sorted([f for f in os.listdir(patient_t2w_dir)\n",
    "                                  if os.path.isfile(os.path.join(patient_t2w_dir, f))])\n",
    "\n",
    "                min_slices = min(len(adc_files), len(t2w_files))\n",
    "\n",
    "                for i in range(min_slices):\n",
    "                    self.slices.append({\n",
    "                        'adc_path': os.path.join(patient_adc_dir, adc_files[i]),\n",
    "                        't2w_path': os.path.join(patient_t2w_dir, t2w_files[i])\n",
    "                    })\n",
    "\n",
    "    def __getitem__(self, idx):\n",
    "        slice_paths = self.slices[idx]\n",
    "\n",
    "        # load images\n",
    "        adc_image = Image.open(slice_paths['adc_path']).convert('L')\n",
    "        t2w_image = Image.open(slice_paths['t2w_path']).convert('L')\n",
    "\n",
    "        # resize images\n",
    "        adc_image = self.resize(adc_image)\n",
    "        t2w_image = self.resize(t2w_image)\n",
    "\n",
    "        # apply other transforms\n",
    "        if self.transform:\n",
    "            adc_image = self.transform(adc_image)\n",
    "            t2w_image = self.transform(t2w_image)\n",
    "\n",
    "        return {\n",
    "            'A': adc_image,  # source domain (ADC)\n",
    "            'B': t2w_image   # target domain (T2w)\n",
    "        }\n",
    "\n",
    "    def __len__(self):\n",
    "        return len(self.slices)\n",
    "\n"
   ]
  },
  {
   "cell_type": "code",
   "execution_count": null,
   "metadata": {
    "id": "FsMTZ77s5yzY"
   },
   "outputs": [],
   "source": [
    "def create_data_loaders(config):\n",
    "    \"\"\"\n",
    "    Create train, validation, and test data loaders\n",
    "    \"\"\"\n",
    "    # Define transformations\n",
    "    transform = transforms.Compose([\n",
    "        transforms.ToTensor(),\n",
    "        transforms.Normalize((0.5,), (0.5,))\n",
    "    ])\n",
    "\n",
    "    # Create full dataset\n",
    "    full_dataset = MRIDataset(dataset_dir=config['dataset_dir'], transform=transform)\n",
    "\n",
    "    # Calculate lengths for splits\n",
    "    total_size = len(full_dataset)\n",
    "    train_size = int(0.7 * total_size)\n",
    "    val_size = int(0.15 * total_size)\n",
    "    test_size = total_size - train_size - val_size\n",
    "\n",
    "    # Create splits\n",
    "    train_indices, temp_indices = train_test_split(\n",
    "        range(total_size), test_size=(val_size + test_size),\n",
    "        random_state=config['random_seed']\n",
    "    )\n",
    "    val_indices, test_indices = train_test_split(\n",
    "        temp_indices, test_size=test_size,\n",
    "        random_state=config['random_seed']\n",
    "    )\n",
    "\n",
    "    # Create subset datasets based on split ratios\n",
    "    train_dataset = Subset(full_dataset, train_indices)\n",
    "    val_dataset = Subset(full_dataset, val_indices)\n",
    "    test_dataset = Subset(full_dataset, test_indices)\n",
    "\n",
    "    # Create data loaders\n",
    "    train_loader = DataLoader(\n",
    "        train_dataset,\n",
    "        batch_size=config['batch_size'],\n",
    "        shuffle=True,\n",
    "        num_workers=config['num_workers'],\n",
    "        pin_memory=True\n",
    "    )\n",
    "\n",
    "    val_loader = DataLoader(\n",
    "        val_dataset,\n",
    "        batch_size=config['batch_size'],\n",
    "        shuffle=False,\n",
    "        num_workers=config['num_workers'],\n",
    "        pin_memory=True\n",
    "    )\n",
    "\n",
    "    test_loader = DataLoader(\n",
    "        test_dataset,\n",
    "        batch_size=config['batch_size'],\n",
    "        shuffle=False,\n",
    "        num_workers=config['num_workers'],\n",
    "        pin_memory=True\n",
    "    )\n",
    "\n",
    "    print(f\"Total slices: {total_size}\")\n",
    "    print(f\"Training slices: {len(train_dataset)}\")\n",
    "    print(f\"Validation slices: {len(val_dataset)}\")\n",
    "    print(f\"Testing slices: {len(test_dataset)}\")\n",
    "\n",
    "    return train_loader, val_loader, test_loader\n",
    "\n"
   ]
  },
  {
   "cell_type": "code",
   "execution_count": null,
   "metadata": {
    "colab": {
     "base_uri": "https://localhost:8080/"
    },
    "id": "nPhFouu253Zq",
    "outputId": "f22af99a-2ef8-47ff-c367-b9f6da0914b8"
   },
   "outputs": [
    {
     "name": "stdout",
     "output_type": "stream",
     "text": [
      "Total slices: 304\n",
      "Training slices: 212\n",
      "Validation slices: 45\n",
      "Testing slices: 47\n"
     ]
    }
   ],
   "source": [
    "# Create data loaders\n",
    "train_loader, val_loader, test_loader = create_data_loaders(config)"
   ]
  },
  {
   "cell_type": "markdown",
   "metadata": {
    "id": "iLM9ToZRj2yD"
   },
   "source": [
    "# Model"
   ]
  },
  {
   "cell_type": "markdown",
   "metadata": {
    "id": "2EPCUf8_j5LI"
   },
   "source": [
    "## Encoder"
   ]
  },
  {
   "cell_type": "code",
   "execution_count": null,
   "metadata": {
    "id": "mU1p0-sH3bVE"
   },
   "outputs": [],
   "source": [
    "\n",
    "class Encoder(nn.Module):\n",
    "    def __init__(self, latent_dim=8):\n",
    "        super().__init__()\n",
    "\n",
    "        # Input: B x 1 x 256 x 256 (image size)\n",
    "\n",
    "        self.model = nn.Sequential(\n",
    "            # Initial layer\n",
    "            nn.Conv2d(1, 64, 4, stride=2, padding=1),  # B x 64 x 128 x 128\n",
    "            nn.LeakyReLU(0.2, True),\n",
    "\n",
    "            # Downsampling layers\n",
    "            nn.Conv2d(64, 128, 4, stride=2, padding=1),  # B x 128 x 64 x 64\n",
    "            nn.BatchNorm2d(128),\n",
    "            nn.LeakyReLU(0.2, True),\n",
    "\n",
    "            nn.Conv2d(128, 256, 4, stride=2, padding=1),  # B x 256 x 32 x 32\n",
    "            nn.BatchNorm2d(256),\n",
    "            nn.LeakyReLU(0.2, True),\n",
    "\n",
    "            nn.Conv2d(256, 512, 4, stride=2, padding=1),  # B x 512 x 16 x 16\n",
    "            nn.BatchNorm2d(512),\n",
    "            nn.LeakyReLU(0.2, True),\n",
    "\n",
    "            nn.Conv2d(512, 512, 4, stride=2, padding=1),  # B x 512 x 8 x 8\n",
    "            nn.BatchNorm2d(512),\n",
    "            nn.LeakyReLU(0.2, True),\n",
    "\n",
    "            nn.Conv2d(512, 512, 4, stride=2, padding=1),  # B x 512 x 4 x 4\n",
    "            nn.BatchNorm2d(512),\n",
    "            nn.LeakyReLU(0.2, True),\n",
    "        )\n",
    "\n",
    "        # Output mu and logvar for the latent space\n",
    "        self.fc_mu = nn.Linear(512 * 4 * 4, latent_dim)\n",
    "        self.fc_logvar = nn.Linear(512 * 4 * 4, latent_dim)\n",
    "\n",
    "    def forward(self, x):\n",
    "        features = self.model(x)\n",
    "        features = features.view(features.size(0), -1)\n",
    "\n",
    "        mu = self.fc_mu(features)\n",
    "        logvar = self.fc_logvar(features)\n",
    "\n",
    "        return mu, logvar\n",
    "\n",
    "    def reparameterize(self, mu, logvar):\n",
    "        std = torch.exp(0.5 * logvar)\n",
    "        eps = torch.randn_like(std)\n",
    "        return mu + eps * std"
   ]
  },
  {
   "cell_type": "markdown",
   "metadata": {
    "id": "QGxnmKvdkAOJ"
   },
   "source": [
    "## Generator"
   ]
  },
  {
   "cell_type": "code",
   "execution_count": null,
   "metadata": {
    "id": "eJGlKv3zkODU"
   },
   "outputs": [],
   "source": [
    "class Generator(nn.Module):\n",
    "    def __init__(self, latent_dim=8):\n",
    "        super().__init__()\n",
    "\n",
    "        # Initial processing of source image\n",
    "        self.conv1 = nn.Sequential(\n",
    "            nn.Conv2d(1, 64, 4, stride=2, padding=1),  # B x 64 x 128 x 128\n",
    "            nn.LeakyReLU(0.2, True)\n",
    "        )\n",
    "\n",
    "        # Downsample blocks\n",
    "        self.down_blocks = nn.ModuleList([\n",
    "            self._make_down_block(64, 128),    # B x 128 x 64 x 64\n",
    "            self._make_down_block(128, 256),   # B x 256 x 32 x 32\n",
    "            self._make_down_block(256, 512),   # B x 512 x 16 x 16\n",
    "            self._make_down_block(512, 512),   # B x 512 x 8 x 8\n",
    "            self._make_down_block(512, 512),   # B x 512 x 4 x 4\n",
    "        ])\n",
    "\n",
    "        # Inject latent code\n",
    "        self.latent_projection = nn.Sequential(\n",
    "            nn.Linear(latent_dim, 512 * 4 * 4),\n",
    "            nn.ReLU(True)\n",
    "        )\n",
    "\n",
    "        # Upsample blocks\n",
    "        self.up_blocks = nn.ModuleList([\n",
    "            self._make_up_block(1024, 512),    # B x 512 x 8 x 8\n",
    "            self._make_up_block(1024, 512),    # B x 512 x 16 x 16\n",
    "            self._make_up_block(1024, 256),    # B x 256 x 32 x 32\n",
    "            self._make_up_block(512, 128),     # B x 128 x 64 x 64\n",
    "            self._make_up_block(256, 64),      # B x 64 x 128 x 128\n",
    "        ])\n",
    "\n",
    "        # Final output layer\n",
    "        self.final = nn.Sequential(\n",
    "            nn.ConvTranspose2d(128, 1, 4, stride=2, padding=1),  # B x 1 x 256 x 256\n",
    "            nn.Tanh()\n",
    "        )\n",
    "\n",
    "    def _make_down_block(self, in_channels, out_channels):\n",
    "        return nn.Sequential(\n",
    "            nn.Conv2d(in_channels, out_channels, 4, stride=2, padding=1),\n",
    "            nn.BatchNorm2d(out_channels),\n",
    "            nn.LeakyReLU(0.2, True)\n",
    "        )\n",
    "\n",
    "    def _make_up_block(self, in_channels, out_channels):\n",
    "        return nn.Sequential(\n",
    "            nn.ConvTranspose2d(in_channels, out_channels, 4, stride=2, padding=1),\n",
    "            nn.BatchNorm2d(out_channels),\n",
    "            nn.ReLU(True)\n",
    "        )\n",
    "\n",
    "    def forward(self, x, z):\n",
    "        # Process input image through downsample blocks\n",
    "        features = [self.conv1(x)]\n",
    "        for block in self.down_blocks:\n",
    "            features.append(block(features[-1]))\n",
    "\n",
    "        # Process latent code\n",
    "        z = self.latent_projection(z)\n",
    "        z = z.view(z.size(0), -1, 4, 4)\n",
    "\n",
    "        # Combine with last feature map\n",
    "        x = torch.cat([features[-1], z], dim=1)\n",
    "\n",
    "        # Upsample with skip connections\n",
    "        for i, block in enumerate(self.up_blocks):\n",
    "            x = block(x)\n",
    "            if i < len(features) - 1:  # Skip connection\n",
    "                x = torch.cat([x, features[-(i+2)]], dim=1)\n",
    "\n",
    "        # Final output\n",
    "        return self.final(x)"
   ]
  },
  {
   "cell_type": "markdown",
   "metadata": {
    "id": "WGFCHGEmkQ_E"
   },
   "source": [
    "## Discriminator"
   ]
  },
  {
   "cell_type": "code",
   "execution_count": null,
   "metadata": {
    "id": "0ZS0bikKkURQ"
   },
   "outputs": [],
   "source": [
    "class Discriminator(nn.Module):\n",
    "    def __init__(self):\n",
    "        super().__init__()\n",
    "\n",
    "        # Process paired images (source + target)\n",
    "        self.model = nn.Sequential(\n",
    "            # Input: B x 2 x 256 x 256 (concatenated source and target images)\n",
    "            nn.Conv2d(2, 64, 4, stride=2, padding=1),  # B x 64 x 128 x 128\n",
    "            nn.LeakyReLU(0.2, True),\n",
    "\n",
    "            nn.Conv2d(64, 128, 4, stride=2, padding=1),  # B x 128 x 64 x 64\n",
    "            nn.BatchNorm2d(128),\n",
    "            nn.LeakyReLU(0.2, True),\n",
    "\n",
    "            nn.Conv2d(128, 256, 4, stride=2, padding=1),  # B x 256 x 32 x 32\n",
    "            nn.BatchNorm2d(256),\n",
    "            nn.LeakyReLU(0.2, True),\n",
    "\n",
    "            nn.Conv2d(256, 512, 4, stride=2, padding=1),  # B x 512 x 16 x 16\n",
    "            nn.BatchNorm2d(512),\n",
    "            nn.LeakyReLU(0.2, True),\n",
    "\n",
    "            nn.Conv2d(512, 1, 4, stride=1, padding=1),  # B x 1 x 15 x 15\n",
    "        )\n",
    "\n",
    "    def forward(self, source, target):\n",
    "        # Concatenate source and target images along channel dimension\n",
    "        x = torch.cat([source, target], dim=1)\n",
    "        return self.model(x)\n",
    "\n"
   ]
  },
  {
   "cell_type": "markdown",
   "metadata": {
    "id": "j8d8DNnOks-A"
   },
   "source": [
    "## Bicycle GAN"
   ]
  },
  {
   "cell_type": "code",
   "execution_count": null,
   "metadata": {
    "id": "NCXeoLoskrVB"
   },
   "outputs": [],
   "source": [
    "# class that manages all models (E, G, D) and their interactions\n",
    "class BicycleGAN:\n",
    "    def __init__(self, latent_dim=8, lr=0.01, input_size=256, beta1=0.5):\n",
    "        self.latent_dim = latent_dim\n",
    "        self.input_size = input_size\n",
    "        self.lambda_L1 = 10.0\n",
    "        self.lambda_KL = 0.01\n",
    "        self.device = torch.device('cuda' if torch.cuda.is_available() else 'cpu')\n",
    "\n",
    "        # Initialize networks with correct input size\n",
    "        self.E = Encoder(latent_dim=latent_dim).to(self.device)\n",
    "        self.G = Generator(latent_dim=latent_dim).to(self.device)\n",
    "        self.D = Discriminator().to(self.device)\n",
    "\n",
    "        # Initialize weights\n",
    "        self.E.apply(self.weights_init)\n",
    "        self.G.apply(self.weights_init)\n",
    "        self.D.apply(self.weights_init)\n",
    "\n",
    "        # Optimizers with reduced learning rate and beta values\n",
    "        # self.opt_G = torch.optim.Adam(self.G.parameters(), lr=lr, betas=(beta1, 0.999))\n",
    "        # self.opt_E = torch.optim.Adam(self.E.parameters(), lr=lr, betas=(beta1, 0.999))\n",
    "        # self.opt_D = torch.optim.Adam(self.D.parameters(), lr=lr, betas=(beta1, 0.999))\n",
    "        self.opt_G = torch.optim.SGD(\n",
    "            self.G.parameters(),\n",
    "            lr=lr,\n",
    "            momentum=0.9,  # Momentum helps with faster convergence\n",
    "            nesterov=True\n",
    "        )\n",
    "\n",
    "        # SGD with Nesterov momentum\n",
    "        self.opt_E = torch.optim.SGD(\n",
    "            self.E.parameters(),\n",
    "            lr=lr,\n",
    "            momentum=0.9,\n",
    "            nesterov=True  # Often provides better convergence than standard momentum\n",
    "        )\n",
    "\n",
    "        # SGD with weight decay (L2 regularization)\n",
    "        self.opt_D = torch.optim.SGD(\n",
    "            self.D.parameters(),\n",
    "            lr=lr * 0.1,\n",
    "            momentum=0.9,\n",
    "            weight_decay=0.0001\n",
    "        )\n",
    "\n",
    "        # Initialize schedulers\n",
    "        self.scheduler_G = torch.optim.lr_scheduler.ReduceLROnPlateau(\n",
    "            self.opt_G,\n",
    "            mode='min',\n",
    "            factor=0.8,\n",
    "            patience=3,\n",
    "            # verbose=True,\n",
    "            min_lr=1e-7\n",
    "        )\n",
    "\n",
    "        self.scheduler_E = torch.optim.lr_scheduler.ReduceLROnPlateau(\n",
    "            self.opt_E,\n",
    "            mode='min',\n",
    "            factor=0.5,\n",
    "            patience=3,\n",
    "            # verbose=True,\n",
    "            min_lr=1e-7\n",
    "        )\n",
    "\n",
    "        self.scheduler_D = torch.optim.lr_scheduler.ReduceLROnPlateau(\n",
    "            self.opt_D,\n",
    "            mode='min',\n",
    "            factor=0.5,\n",
    "            patience=3,\n",
    "            verbose=True,\n",
    "            min_lr=1e-7\n",
    "        )\n",
    "\n",
    "        self.criterion_GAN = nn.MSELoss()\n",
    "        self.criterion_L1 = nn.L1Loss()\n",
    "        self.criterion_KL = lambda mu, logvar: -0.5 * torch.sum(1 + logvar - mu.pow(2) - logvar.exp())\n",
    "\n",
    "    @staticmethod\n",
    "    def weights_init(m):\n",
    "        \"\"\"Initialize network weights.\"\"\"\n",
    "        classname = m.__class__.__name__\n",
    "        if classname.find('Conv') != -1:\n",
    "            nn.init.normal_(m.weight.data, 0.0, 0.02)\n",
    "        elif classname.find('BatchNorm') != -1:\n",
    "            nn.init.normal_(m.weight.data, 1.0, 0.02)\n",
    "            nn.init.constant_(m.bias.data, 0)\n",
    "\n",
    "    def train_step(self, source, target, lambda_L1=10, lambda_KL=0.01):\n",
    "        \"\"\"Single training step\"\"\"\n",
    "        # Add gradient clipping value\n",
    "        max_grad_norm = 1.0\n",
    "\n",
    "        real_label = torch.ones((source.size(0), 1, 15, 15)).to(self.device)\n",
    "        fake_label = torch.zeros((source.size(0), 1, 15, 15)).to(self.device)\n",
    "\n",
    "        # Forward cycle (cVAE-GAN)\n",
    "        self.opt_E.zero_grad()\n",
    "        self.opt_G.zero_grad()\n",
    "\n",
    "        # Get latent encoding of target image\n",
    "        mu, logvar = self.E(target)\n",
    "        z = self.E.reparameterize(mu, logvar)\n",
    "\n",
    "        # Generate fake image\n",
    "        fake_B = self.G(source, z)\n",
    "\n",
    "        # Discriminator loss for generated image\n",
    "        pred_fake = self.D(source, fake_B)\n",
    "        loss_G_GAN = self.criterion_GAN(pred_fake, real_label) * 0.5  # Scale down GAN loss\n",
    "\n",
    "        # L1 loss between generated and target\n",
    "        loss_G_L1 = self.criterion_L1(fake_B, target) * lambda_L1\n",
    "\n",
    "        # KL loss with scaling\n",
    "        loss_KL = self.criterion_KL(mu, logvar) * lambda_KL\n",
    "\n",
    "        # Backward cycle (cLR-GAN)\n",
    "        z_random = torch.randn(source.size(0), self.latent_dim).to(self.device)\n",
    "        fake_B_random = self.G(source, z_random)\n",
    "        mu2, logvar2 = self.E(fake_B_random)\n",
    "\n",
    "        # Latent regression loss\n",
    "        loss_z_L1 = self.criterion_L1(mu2, z_random) * lambda_L1\n",
    "\n",
    "        # Total generator and encoder loss\n",
    "        loss_G = loss_G_GAN + loss_G_L1 + loss_KL + loss_z_L1\n",
    "\n",
    "        # Check for NaN loss value\n",
    "        if not torch.isnan(loss_G):\n",
    "            loss_G.backward()\n",
    "            # Clip gradients\n",
    "            torch.nn.utils.clip_grad_norm_(self.G.parameters(), max_grad_norm)\n",
    "            torch.nn.utils.clip_grad_norm_(self.E.parameters(), max_grad_norm)\n",
    "            self.opt_E.step()\n",
    "            self.opt_G.step()\n",
    "\n",
    "        # Discriminator update\n",
    "        self.opt_D.zero_grad()\n",
    "\n",
    "        # Real loss\n",
    "        pred_real = self.D(source, target)\n",
    "        loss_D_real = self.criterion_GAN(pred_real, real_label)\n",
    "\n",
    "        # Fake loss (cVAE-GAN)\n",
    "        pred_fake = self.D(source, fake_B.detach())\n",
    "        loss_D_fake1 = self.criterion_GAN(pred_fake, fake_label)\n",
    "\n",
    "        # Fake loss (cLR-GAN)\n",
    "        pred_fake = self.D(source, fake_B_random.detach())\n",
    "        loss_D_fake2 = self.criterion_GAN(pred_fake, fake_label)\n",
    "\n",
    "        # Total discriminator loss\n",
    "        loss_D = (loss_D_real + loss_D_fake1 + loss_D_fake2) * 0.5\n",
    "\n",
    "        # Check for NaN\n",
    "        if not torch.isnan(loss_D):\n",
    "            loss_D.backward()\n",
    "            # Clip gradients\n",
    "            torch.nn.utils.clip_grad_norm_(self.D.parameters(), max_grad_norm)\n",
    "            self.opt_D.step()\n",
    "\n",
    "        return {\n",
    "            'G_loss': loss_G.item() if not torch.isnan(loss_G) else 0,\n",
    "            'D_loss': loss_D.item() if not torch.isnan(loss_D) else 0,\n",
    "            'KL': loss_KL.item() if not torch.isnan(loss_KL) else 0,\n",
    "            'L1': loss_G_L1.item() if not torch.isnan(loss_G_L1) else 0,\n",
    "            'z_L1': loss_z_L1.item() if not torch.isnan(loss_z_L1) else 0\n",
    "        }\n",
    "\n",
    "\n",
    "    def set_requires_grad(self, nets, requires_grad=False):\n",
    "        \"\"\"Set requies_grad=False for networks to avoid unnecessary computations\"\"\"\n",
    "        if not isinstance(nets, list):\n",
    "            nets = [nets]\n",
    "        for net in nets:\n",
    "            if net is not None:\n",
    "                for param in net.parameters():\n",
    "                    param.requires_grad = requires_grad\n",
    "\n",
    "    def encode(self, input_image):\n",
    "        mu, logvar = self.E(input_image)\n",
    "        z = self.E.reparameterize(mu, logvar)\n",
    "        return z, mu, logvar\n",
    "\n",
    "    def generate(self, input_image, z):\n",
    "        return self.G(input_image, z)\n",
    "\n",
    "\n",
    "    def visualize_results(self, source, target, epoch, num_samples=4):\n",
    "        \"\"\"\n",
    "        Visualize multiple generation results from the same input image\n",
    "        Args:\n",
    "            source: Source image (ADC)\n",
    "            target: Ground truth target image (T2w)\n",
    "            epoch: Current epoch number\n",
    "            num_samples: Number of different results to generate\n",
    "        \"\"\"\n",
    "        self.E.eval()\n",
    "        self.G.eval()\n",
    "        with torch.no_grad():\n",
    "            # Generate multiple outputs using different random latent codes\n",
    "            outputs = []\n",
    "            for _ in range(num_samples):\n",
    "                z = torch.randn(source.size(0), self.latent_dim).to(self.device)\n",
    "                fake = self.G(source, z)\n",
    "                outputs.append(fake)\n",
    "\n",
    "            # Create visualization grid\n",
    "            # First row: [source, target]\n",
    "            # Following rows: different generated outputs\n",
    "            vis_images = [source[0], target[0]]  # First row\n",
    "            for out in outputs:\n",
    "                vis_images.append(out[0])\n",
    "\n",
    "            # Convert from [-1, 1] to [0, 1] range for visualization\n",
    "            vis_images = [(img + 1) / 2 for img in vis_images]\n",
    "\n",
    "            # Create grid\n",
    "            image_grid = vutils.make_grid(vis_images, nrow=2, padding=2, normalize=False)\n",
    "\n",
    "            # Plot\n",
    "            plt.figure(figsize=(10, 10))\n",
    "            plt.axis('off')\n",
    "            plt.imshow(image_grid.cpu().numpy()[0], cmap='gray')\n",
    "            plt.title(f'Epoch {epoch}\\nTop: [Source | Target]\\nBottom: Generated Samples')\n",
    "            plt.show()\n",
    "            plt.close()\n",
    "\n",
    "    def visualize_interpolation(self, source, target, epoch, num_steps=5):\n",
    "        \"\"\"\n",
    "        Visualize interpolation between two random latent codes\n",
    "        \"\"\"\n",
    "        self.E.eval()\n",
    "        self.G.eval()\n",
    "        with torch.no_grad():\n",
    "            # Get two random latent codes\n",
    "            z1 = torch.randn(1, self.latent_dim).to(self.device)\n",
    "            z2 = torch.randn(1, self.latent_dim).to(self.device)\n",
    "\n",
    "            # Interpolate between latent codes\n",
    "            alphas = torch.linspace(0, 1, num_steps)\n",
    "            interpolated = []\n",
    "\n",
    "            for alpha in alphas:\n",
    "                z = alpha * z1 + (1 - alpha) * z2\n",
    "                fake = self.G(source, z)\n",
    "                interpolated.append(fake[0])\n",
    "\n",
    "            # Create visualization grid\n",
    "            vis_images = [source[0], target[0]] + interpolated\n",
    "            vis_images = [(img + 1) / 2 for img in vis_images]\n",
    "\n",
    "            # Create grid\n",
    "            image_grid = vutils.make_grid(vis_images, nrow=len(vis_images), padding=2, normalize=False)\n",
    "\n",
    "            # Plot\n",
    "            plt.figure(figsize=(15, 5))\n",
    "            plt.axis('off')\n",
    "            plt.imshow(image_grid.cpu().numpy()[0], cmap='gray')\n",
    "            plt.title(f'Epoch {epoch}\\nLeft: [Source | Target | Interpolated Samples]')\n",
    "            plt.show()\n",
    "            plt.close()\n",
    "\n",
    "    @staticmethod\n",
    "    def calculate_psnr(fake, real):\n",
    "        \"\"\"Calculate PSNR between fake and real images\"\"\"\n",
    "        mse = F.mse_loss(fake, real)\n",
    "        psnr = 20 * torch.log10(2.0 / torch.sqrt(mse))\n",
    "        return psnr.item()\n",
    "\n",
    "    @staticmethod\n",
    "    def calculate_ssim(fake, real):\n",
    "        \"\"\"Calculate SSIM between fake and real images\"\"\"\n",
    "        # Implementation of SSIM calculation\n",
    "        return ssim(fake, real, data_range=2.0).item()  # 2.0 for [-1,1] range\n",
    "\n",
    "\n",
    "    def visualize_batch(self, source, target, generated, title, save_path=None):\n",
    "        \"\"\"\n",
    "        Visualize a batch of images: source, target, and generated\n",
    "        Args:\n",
    "            source: source images\n",
    "            target: target images\n",
    "            generated: list of generated images (for multiple samples)\n",
    "            title: title for the plot\n",
    "            save_path: if provided, save the plot to this path\n",
    "        \"\"\"\n",
    "        # Convert tensors to PIL images\n",
    "        def tensor_to_numpy(tensor):\n",
    "            #  convert to [0, 1] (for tensor in [-1, 1] range)\n",
    "            return ((tensor.cpu().detach() + 1) / 2.0).numpy()\n",
    "\n",
    "        # Create figure\n",
    "        num_samples = len(generated)\n",
    "        fig, axes = plt.subplots(2, num_samples + 2, figsize=(3*(num_samples + 2), 6))\n",
    "        plt.suptitle(title)\n",
    "\n",
    "        # Plot source and target in first row\n",
    "        axes[0, 0].imshow(tensor_to_numpy(source[0])[0], cmap='gray')\n",
    "        axes[0, 0].set_title('Source (ADC)')\n",
    "        axes[0, 0].axis('off')\n",
    "\n",
    "        axes[0, 1].imshow(tensor_to_numpy(target[0])[0], cmap='gray')\n",
    "        axes[0, 1].set_title('Target (T2)')\n",
    "        axes[0, 1].axis('off')\n",
    "\n",
    "        # Plot generated samples\n",
    "        for i, gen in enumerate(generated):\n",
    "            axes[0, i+2].imshow(tensor_to_numpy(gen[0])[0], cmap='gray')\n",
    "            axes[0, i+2].set_title(f'Generated {i+1}')\n",
    "            axes[0, i+2].axis('off')\n",
    "\n",
    "        # Plot differences in second row\n",
    "        diff_target = np.abs(tensor_to_numpy(target[0])[0] - tensor_to_numpy(source[0])[0])\n",
    "        axes[1, 0].imshow(diff_target, cmap='hot')\n",
    "        axes[1, 0].set_title('Diff: Target-Source')\n",
    "        axes[1, 0].axis('off')\n",
    "\n",
    "        axes[1, 1].axis('off')  # Empty plot for alignment\n",
    "\n",
    "        for i, gen in enumerate(generated):\n",
    "            diff_gen = np.abs(tensor_to_numpy(gen[0])[0] - tensor_to_numpy(target[0])[0])\n",
    "            axes[1, i+2].imshow(diff_gen, cmap='hot')\n",
    "            axes[1, i+2].set_title(f'Diff: Gen{i+1}-Target')\n",
    "            axes[1, i+2].axis('off')\n",
    "\n",
    "        plt.tight_layout()\n",
    "\n",
    "        if save_path:\n",
    "            plt.savefig(save_path)\n",
    "        plt.show()\n",
    "        plt.close()\n",
    "\n",
    "\n",
    "\n",
    "    def validate(self, val_loader, epoch, save_dir):\n",
    "        \"\"\"Run validation with visualization\"\"\"\n",
    "        self.E.eval()\n",
    "        self.G.eval()\n",
    "        self.D.eval()\n",
    "\n",
    "        val_losses = []\n",
    "\n",
    "        with torch.no_grad():\n",
    "            for i, batch in enumerate(val_loader):\n",
    "                source = batch['A'].to(self.device)\n",
    "                target = batch['B'].to(self.device)\n",
    "\n",
    "                # Generate multiple samples\n",
    "                generated_samples = []\n",
    "                for _ in range(3):  # Generate 3 different samples\n",
    "                    z = torch.randn(source.size(0), self.latent_dim).to(self.device)\n",
    "                    fake_B = self.G(source, z)\n",
    "                    generated_samples.append(fake_B)\n",
    "\n",
    "                # Calculate validation losses\n",
    "                loss_G_L1 = self.criterion_L1(generated_samples[0], target) * self.lambda_L1\n",
    "\n",
    "                val_losses.append({\n",
    "                    'val_L1': loss_G_L1.item(),\n",
    "                })\n",
    "\n",
    "                # Visualize first few batches\n",
    "                if i == 5:  # Show validation samples\n",
    "                    save_path = f\"{save_dir}/validation_epoch{epoch}_batch{i}.png\"\n",
    "                    self.visualize_batch(\n",
    "                        source, target, generated_samples,\n",
    "                        f\"Validation - Epoch {epoch}, Batch {i}\",\n",
    "                        save_path\n",
    "                    )\n",
    "\n",
    "        avg_losses = {k: sum(d[k] for d in val_losses) / len(val_losses)\n",
    "                     for k in val_losses[0].keys()}\n",
    "\n",
    "        return avg_losses\n",
    "\n",
    "\n",
    "\n",
    "    def test(self, test_loader, num_samples=5, save_dir=None):\n",
    "        \"\"\"Run testing with visualization\"\"\"\n",
    "        self.E.eval()\n",
    "        self.G.eval()\n",
    "\n",
    "        test_metrics = []\n",
    "\n",
    "        with torch.no_grad():\n",
    "            for i, batch in enumerate(test_loader):\n",
    "                source = batch['A'].to(self.device)\n",
    "                target = batch['B'].to(self.device)\n",
    "\n",
    "                # Generate multiple samples\n",
    "                generated_samples = []\n",
    "                for _ in range(num_samples):\n",
    "                    z = torch.randn(source.size(0), self.latent_dim).to(self.device)\n",
    "                    fake_B = self.G(source, z)\n",
    "                    generated_samples.append(fake_B)\n",
    "\n",
    "                # Calculate metrics\n",
    "                metrics = {\n",
    "                    'PSNR': BicycleGAN.calculate_psnr(generated_samples[0], target),\n",
    "                    'SSIM': BicycleGAN.calculate_ssim(generated_samples[0], target),\n",
    "                    'L1': self.criterion_L1(generated_samples[0], target).item()\n",
    "                }\n",
    "                test_metrics.append(metrics)\n",
    "\n",
    "                # Visualize\n",
    "                if save_dir and (i == 3 or i==7):  # Show 2 test samples\n",
    "                    save_path = f\"{save_dir}/test_sample{i}.png\"\n",
    "                    self.visualize_batch(\n",
    "                        source, target, generated_samples,\n",
    "                        f\"Test Sample {i}\",\n",
    "                        save_path\n",
    "                    )\n",
    "\n",
    "        avg_metrics = {k: sum(d[k] for d in test_metrics) / len(test_metrics)\n",
    "                      for k in test_metrics[0].keys()}\n",
    "\n",
    "        return avg_metrics\n",
    "\n",
    "    def get_current_lrs(self):\n",
    "        return {\n",
    "            'lr_G': self.opt_G.param_groups[0]['lr'],\n",
    "            'lr_E': self.opt_E.param_groups[0]['lr'],\n",
    "            'lr_D': self.opt_D.param_groups[0]['lr']\n",
    "        }\n",
    "\n"
   ]
  },
  {
   "cell_type": "markdown",
   "metadata": {
    "id": "M0obtm7y__-t"
   },
   "source": [
    "# Wandb Config"
   ]
  },
  {
   "cell_type": "code",
   "execution_count": null,
   "metadata": {
    "colab": {
     "base_uri": "https://localhost:8080/"
    },
    "id": "TdPClnMx__M8",
    "outputId": "a44a4e5c-1cf8-4f2b-c5b2-0669bdf7744d"
   },
   "outputs": [
    {
     "name": "stderr",
     "output_type": "stream",
     "text": [
      "\u001b[34m\u001b[1mwandb\u001b[0m: \u001b[33mWARNING\u001b[0m Calling wandb.login() after wandb.init() has no effect.\n"
     ]
    },
    {
     "data": {
      "text/plain": [
       "True"
      ]
     },
     "execution_count": 25,
     "metadata": {},
     "output_type": "execute_result"
    }
   ],
   "source": [
    "import wandb\n",
    "wandb.login(key=\"key\") # enter key here"
   ]
  },
  {
   "cell_type": "code",
   "execution_count": null,
   "metadata": {
    "colab": {
     "base_uri": "https://localhost:8080/",
     "height": 536
    },
    "id": "U82EswSbFaMw",
    "outputId": "2b617064-88ae-474e-b1ca-5c6f64730f71"
   },
   "outputs": [
    {
     "data": {
      "text/html": [
       "Finishing last run (ID:ecoplv6y) before initializing another..."
      ],
      "text/plain": [
       "<IPython.core.display.HTML object>"
      ]
     },
     "metadata": {},
     "output_type": "display_data"
    },
    {
     "data": {
      "text/html": [
       "<style>\n",
       "    table.wandb td:nth-child(1) { padding: 0 10px; text-align: left ; width: auto;} td:nth-child(2) {text-align: left ; width: 100%}\n",
       "    .wandb-row { display: flex; flex-direction: row; flex-wrap: wrap; justify-content: flex-start; width: 100% }\n",
       "    .wandb-col { display: flex; flex-direction: column; flex-basis: 100%; flex: 1; padding: 10px; }\n",
       "    </style>\n",
       "<div class=\"wandb-row\"><div class=\"wandb-col\"><h3>Run history:</h3><br/><table class=\"wandb\"><tr><td>D_loss</td><td>█▄▃▃▂▂▂▃▂▂▂▂▂▂▂▁▁▁▁▁▁▁▁▁▁▁▁▁▁▁▁▁▁▁▁▁▁▁▁▁</td></tr><tr><td>G_loss</td><td>█▅▅▅▅▅▅▅▄▄▄▄▄▄▄▄▄▃▃▃▂▂▂▂▂▂▁▁▁▁▁▁▁▁▁▁▁▁▁▁</td></tr><tr><td>KL</td><td>▁▁▁▁▁▂▂▂▁▁▁▁▂▁▁▁▁▂▁▁▂▂▂▃▃▄▅▅▅▆▆▇▇▇▇█████</td></tr><tr><td>L1</td><td>█▄▄▄▄▄▄▁▃▃▃▃▃▃▁▃▃▃▃▃▃▃▃▃▃▃▁▃▃▃▃▃▃▃▁▃▃▃▃▃</td></tr><tr><td>PSNR</td><td>▁█▇▂▂</td></tr><tr><td>SSIM</td><td>▁█▆▄▄</td></tr><tr><td>learning_rate/D</td><td>███████████████████▄▄▃▃▃▃▂▂▁▁▁▁▁▁▁▁▁▁▁▁▁</td></tr><tr><td>learning_rate/E</td><td>████████████████▄▄▄▃▃▃▂▂▂▁▁▁▁▁▁▁▁▁▁▁▁▁▁▁</td></tr><tr><td>learning_rate/G</td><td>███████████████▆▆▆▆▅▅▅▄▄▄▃▃▃▃▂▂▂▂▂▂▁▁▁▁▁</td></tr><tr><td>val_L1</td><td>█▇▆▆▆▅▄▄▃▃▂▁▁▁▁▁▁▁▁▁▁▂▂▂▂▂▃▃▂▂▂▂▂▂▃▃▃▃▃▃</td></tr><tr><td>z_L1</td><td>███▇▇██▇███▇█████▇▇▆▅▅▄▄▄▃▂▂▂▂▁▂▁▁▁▁▁▁▁▁</td></tr></table><br/></div><div class=\"wandb-col\"><h3>Run summary:</h3><br/><table class=\"wandb\"><tr><td>D_loss</td><td>0.24253</td></tr><tr><td>G_loss</td><td>6.47906</td></tr><tr><td>KL</td><td>0.02142</td></tr><tr><td>L1</td><td>1.77583</td></tr><tr><td>PSNR</td><td>16.14108</td></tr><tr><td>SSIM</td><td>0.50685</td></tr><tr><td>learning_rate/D</td><td>0.0</td></tr><tr><td>learning_rate/E</td><td>0.0</td></tr><tr><td>learning_rate/G</td><td>8e-05</td></tr><tr><td>val_L1</td><td>1.81847</td></tr><tr><td>z_L1</td><td>4.37424</td></tr></table><br/></div></div>"
      ],
      "text/plain": [
       "<IPython.core.display.HTML object>"
      ]
     },
     "metadata": {},
     "output_type": "display_data"
    },
    {
     "data": {
      "text/html": [
       " View run <strong style=\"color:#cdcd00\">bicycle-GAN</strong> at: <a href='https://wandb.ai/GroupXV/project-ablations/runs/ecoplv6y' target=\"_blank\">https://wandb.ai/GroupXV/project-ablations/runs/ecoplv6y</a><br/> View project at: <a href='https://wandb.ai/GroupXV/project-ablations' target=\"_blank\">https://wandb.ai/GroupXV/project-ablations</a><br/>Synced 5 W&B file(s), 0 media file(s), 0 artifact file(s) and 0 other file(s)"
      ],
      "text/plain": [
       "<IPython.core.display.HTML object>"
      ]
     },
     "metadata": {},
     "output_type": "display_data"
    },
    {
     "data": {
      "text/html": [
       "Find logs at: <code>./wandb/run-20241104_170154-ecoplv6y/logs</code>"
      ],
      "text/plain": [
       "<IPython.core.display.HTML object>"
      ]
     },
     "metadata": {},
     "output_type": "display_data"
    },
    {
     "data": {
      "text/html": [
       "Successfully finished last run (ID:ecoplv6y). Initializing new run:<br/>"
      ],
      "text/plain": [
       "<IPython.core.display.HTML object>"
      ]
     },
     "metadata": {},
     "output_type": "display_data"
    },
    {
     "data": {
      "text/html": [
       "Tracking run with wandb version 0.18.5"
      ],
      "text/plain": [
       "<IPython.core.display.HTML object>"
      ]
     },
     "metadata": {},
     "output_type": "display_data"
    },
    {
     "data": {
      "text/html": [
       "Run data is saved locally in <code>/content/wandb/run-20241104_175228-iuy01322</code>"
      ],
      "text/plain": [
       "<IPython.core.display.HTML object>"
      ]
     },
     "metadata": {},
     "output_type": "display_data"
    },
    {
     "data": {
      "text/html": [
       "Syncing run <strong><a href='https://wandb.ai/GroupXV/project-ablations/runs/iuy01322' target=\"_blank\">bicycle-GAN</a></strong> to <a href='https://wandb.ai/GroupXV/project-ablations' target=\"_blank\">Weights & Biases</a> (<a href='https://wandb.me/run' target=\"_blank\">docs</a>)<br/>"
      ],
      "text/plain": [
       "<IPython.core.display.HTML object>"
      ]
     },
     "metadata": {},
     "output_type": "display_data"
    },
    {
     "data": {
      "text/html": [
       " View project at <a href='https://wandb.ai/GroupXV/project-ablations' target=\"_blank\">https://wandb.ai/GroupXV/project-ablations</a>"
      ],
      "text/plain": [
       "<IPython.core.display.HTML object>"
      ]
     },
     "metadata": {},
     "output_type": "display_data"
    },
    {
     "data": {
      "text/html": [
       " View run at <a href='https://wandb.ai/GroupXV/project-ablations/runs/iuy01322' target=\"_blank\">https://wandb.ai/GroupXV/project-ablations/runs/iuy01322</a>"
      ],
      "text/plain": [
       "<IPython.core.display.HTML object>"
      ]
     },
     "metadata": {},
     "output_type": "display_data"
    }
   ],
   "source": [
    "run = wandb.init(\n",
    "    name = \"bicycle-GAN\",\n",
    "    reinit = True,\n",
    "    # id = ###\n",
    "    # resume = \"must\"\n",
    "    project = \"project-ablations\",\n",
    "    config = config\n",
    ")"
   ]
  },
  {
   "cell_type": "markdown",
   "metadata": {
    "id": "o_H-DUBHlh_h"
   },
   "source": [
    "## Training"
   ]
  },
  {
   "cell_type": "code",
   "execution_count": null,
   "metadata": {
    "id": "a2X2ZiU_mJnz"
   },
   "outputs": [],
   "source": [
    "def train(model, train_loader, val_loader, test_loader, num_epochs, save_path):\n",
    "    \"\"\"Complete training process with visualizations\"\"\"\n",
    "    losses_history = []\n",
    "    val_history = []\n",
    "    best_val_loss = float('inf')\n",
    "    patience = 30\n",
    "    patience_counter = 0\n",
    "\n",
    "    # Create directories for saving visualizations\n",
    "    vis_dir = os.path.join(save_path, 'visualizations')\n",
    "    val_dir = os.path.join(vis_dir, 'validation')\n",
    "    test_dir = os.path.join(vis_dir, 'test')\n",
    "    os.makedirs(val_dir, exist_ok=True)\n",
    "    os.makedirs(test_dir, exist_ok=True)\n",
    "\n",
    "    for epoch in range(num_epochs):\n",
    "        epoch_losses = []\n",
    "        model.G.train()\n",
    "        model.E.train()\n",
    "        model.D.train()\n",
    "\n",
    "        for i, batch in enumerate(train_loader):\n",
    "            source = batch['A'].to(model.device)\n",
    "            target = batch['B'].to(model.device)\n",
    "\n",
    "            # Training step\n",
    "            losses = model.train_step(source, target)\n",
    "\n",
    "            # Skip this batch if NaN losses were computed\n",
    "            if losses['G_loss'] == 0 and losses['D_loss'] == 0:\n",
    "                print(f\"Skipping batch {i} due to NaN losses\")\n",
    "                continue\n",
    "\n",
    "            epoch_losses.append(losses)\n",
    "\n",
    "            # Print progress\n",
    "            if i % 200 == 0:\n",
    "                print(f\"Epoch [{epoch}/{num_epochs}] Batch [{i}/{len(train_loader)}] \"\n",
    "                      f\"G_loss: {losses['G_loss']:.4f} D_loss: {losses['D_loss']:.4f}\"\n",
    "                      f\"LRs: {model.get_current_lrs()}\")\n",
    "\n",
    "                # Visualize results\n",
    "                if i % 800 == 0:\n",
    "                    model.visualize_results(source, target, epoch)\n",
    "\n",
    "        # Average epoch losses\n",
    "        if epoch_losses:  # Only if we have valid losses\n",
    "            avg_losses = {k: sum(d[k] for d in epoch_losses) / len(epoch_losses)\n",
    "                        for k in epoch_losses[0].keys()}\n",
    "            wandb.log(avg_losses)\n",
    "            losses_history.append(avg_losses)\n",
    "\n",
    "            # Run validation\n",
    "            val_losses = model.validate(val_loader, epoch, val_dir)\n",
    "            val_history.append(val_losses)\n",
    "            wandb.log(val_losses)  # Log validation losses to wandb\n",
    "\n",
    "            # Step the schedulers using validation loss\n",
    "            model.scheduler_G.step(val_losses['val_L1'])\n",
    "            model.scheduler_E.step(val_losses['val_L1'])\n",
    "            model.scheduler_D.step(val_losses['val_L1'])\n",
    "\n",
    "\n",
    "            # Get learning rates and add prefix to keys\n",
    "            # lr_dict = {f\"learning_rate/{k[3:]}\": v for k, v in model.get_current_lrs().items()}\n",
    "            # wandb.log(lr_dict)\n",
    "\n",
    "            # # Get all learning rates as a dictionary\n",
    "            lr_dict = model.get_current_lrs()\n",
    "\n",
    "            # # Log to wandb\n",
    "            wandb.log({\n",
    "                'learning_rate/generator': lr_dict['lr_G'],\n",
    "                'learning_rate/encoder': lr_dict['lr_E'],\n",
    "                'learning_rate/discriminator': lr_dict['lr_D']\n",
    "            })\n",
    "\n",
    "\n",
    "            # Periodic test evaluation\n",
    "            if (epoch + 1) % 10 == 0:\n",
    "                test_metrics = model.test(test_loader, save_dir=test_dir)\n",
    "                print(f\"Test Metrics - Epoch {epoch+1}:\")\n",
    "                for k, v in test_metrics.items():\n",
    "                    print(f\"{k}: {v:.4f}\")\n",
    "                wandb.log(test_metrics)  # Log test metrics to wandb\n",
    "\n",
    "            # Early stopping check (now using validation loss)\n",
    "            if val_losses['val_L1'] < best_val_loss:\n",
    "                best_val_loss = val_losses['val_L1']\n",
    "                patience_counter = 0\n",
    "\n",
    "                # Save best model\n",
    "                checkpoint = {\n",
    "                    'epoch': epoch,\n",
    "                    'G_state_dict': model.G.state_dict(),\n",
    "                    'E_state_dict': model.E.state_dict(),\n",
    "                    'D_state_dict': model.D.state_dict(),\n",
    "                    'opt_G_state_dict': model.opt_G.state_dict(),\n",
    "                    'opt_E_state_dict': model.opt_E.state_dict(),\n",
    "                    'opt_D_state_dict': model.opt_D.state_dict(),\n",
    "                    'losses': losses_history,\n",
    "                    'val_losses': val_history\n",
    "                }\n",
    "                torch.save(checkpoint, f\"{save_path}/bicycle_gan_best.pt\")\n",
    "            else:\n",
    "                patience_counter += 1\n",
    "\n",
    "            if patience_counter >= patience:\n",
    "                # print(\"Early stopping triggered\")\n",
    "                # break\n",
    "                print(\"Early stopping triggered BUT CONTINUING\")\n",
    "\n",
    "            # Save regular checkpoint\n",
    "            if (epoch + 1) % 10 == 0:\n",
    "                checkpoint = {\n",
    "                    'epoch': epoch,\n",
    "                    'G_state_dict': model.G.state_dict(),\n",
    "                    'E_state_dict': model.E.state_dict(),\n",
    "                    'D_state_dict': model.D.state_dict(),\n",
    "                    'opt_G_state_dict': model.opt_G.state_dict(),\n",
    "                    'opt_E_state_dict': model.opt_E.state_dict(),\n",
    "                    'opt_D_state_dict': model.opt_D.state_dict(),\n",
    "                    'losses': losses_history,\n",
    "                    'val_losses': val_history\n",
    "                }\n",
    "                torch.save(checkpoint, f\"{save_path}/bicycle_gan_epoch_{epoch+1}.pt\")\n",
    "\n",
    "    return losses_history, val_history\n",
    "\n",
    "\n",
    "\n"
   ]
  },
  {
   "cell_type": "code",
   "execution_count": null,
   "metadata": {
    "id": "w3VKRsTJ2KSX"
   },
   "outputs": [],
   "source": [
    "\n",
    "model = BicycleGAN(latent_dim=8, lr=config[\"lr\"])\n",
    "save_path = './checkpoints'\n",
    "os.makedirs(save_path, exist_ok=True)"
   ]
  },
  {
   "cell_type": "code",
   "execution_count": null,
   "metadata": {
    "colab": {
     "base_uri": "https://localhost:8080/",
     "height": 1000
    },
    "id": "J5WzjHNHNqpH",
    "outputId": "ba645b39-1f1b-40f9-9554-40f8e879cef9"
   },
   "outputs": [],
   "source": [
    "losses, val_losses = train(model, train_loader, val_loader, test_loader,\n",
    "                         num_epochs=config['epochs'], save_path=save_path)"
   ]
  },
  {
   "cell_type": "code",
   "execution_count": null,
   "metadata": {
    "colab": {
     "base_uri": "https://localhost:8080/"
    },
    "id": "NikDl7-NmbCH",
    "outputId": "0376a3e6-037c-4fc9-ea94-010adc940371"
   },
   "outputs": [
    {
     "ename": "NameError",
     "evalue": "name 'losses_history' is not defined",
     "output_type": "error",
     "traceback": [
      "\u001b[0;31m---------------------------------------------------------------------------\u001b[0m",
      "\u001b[0;31mNameError\u001b[0m                                 Traceback (most recent call last)",
      "\u001b[0;32m<ipython-input-29-9b3fb7fcc083>\u001b[0m in \u001b[0;36m<cell line: 3>\u001b[0;34m()\u001b[0m\n\u001b[1;32m      1\u001b[0m \u001b[0;31m# Plot training losses\u001b[0m\u001b[0;34m\u001b[0m\u001b[0;34m\u001b[0m\u001b[0m\n\u001b[1;32m      2\u001b[0m \u001b[0mplt\u001b[0m\u001b[0;34m.\u001b[0m\u001b[0mfigure\u001b[0m\u001b[0;34m(\u001b[0m\u001b[0mfigsize\u001b[0m\u001b[0;34m=\u001b[0m\u001b[0;34m(\u001b[0m\u001b[0;36m10\u001b[0m\u001b[0;34m,\u001b[0m \u001b[0;36m5\u001b[0m\u001b[0;34m)\u001b[0m\u001b[0;34m)\u001b[0m\u001b[0;34m\u001b[0m\u001b[0;34m\u001b[0m\u001b[0m\n\u001b[0;32m----> 3\u001b[0;31m \u001b[0mplt\u001b[0m\u001b[0;34m.\u001b[0m\u001b[0mplot\u001b[0m\u001b[0;34m(\u001b[0m\u001b[0;34m[\u001b[0m\u001b[0md\u001b[0m\u001b[0;34m[\u001b[0m\u001b[0;34m'G_loss'\u001b[0m\u001b[0;34m]\u001b[0m \u001b[0;32mfor\u001b[0m \u001b[0md\u001b[0m \u001b[0;32min\u001b[0m \u001b[0mlosses_history\u001b[0m\u001b[0;34m]\u001b[0m\u001b[0;34m,\u001b[0m \u001b[0mlabel\u001b[0m\u001b[0;34m=\u001b[0m\u001b[0;34m'Generator'\u001b[0m\u001b[0;34m)\u001b[0m\u001b[0;34m\u001b[0m\u001b[0;34m\u001b[0m\u001b[0m\n\u001b[0m\u001b[1;32m      4\u001b[0m \u001b[0mplt\u001b[0m\u001b[0;34m.\u001b[0m\u001b[0mplot\u001b[0m\u001b[0;34m(\u001b[0m\u001b[0;34m[\u001b[0m\u001b[0md\u001b[0m\u001b[0;34m[\u001b[0m\u001b[0;34m'D_loss'\u001b[0m\u001b[0;34m]\u001b[0m \u001b[0;32mfor\u001b[0m \u001b[0md\u001b[0m \u001b[0;32min\u001b[0m \u001b[0mlosses_history\u001b[0m\u001b[0;34m]\u001b[0m\u001b[0;34m,\u001b[0m \u001b[0mlabel\u001b[0m\u001b[0;34m=\u001b[0m\u001b[0;34m'Discriminator'\u001b[0m\u001b[0;34m)\u001b[0m\u001b[0;34m\u001b[0m\u001b[0;34m\u001b[0m\u001b[0m\n\u001b[1;32m      5\u001b[0m \u001b[0mplt\u001b[0m\u001b[0;34m.\u001b[0m\u001b[0mxlabel\u001b[0m\u001b[0;34m(\u001b[0m\u001b[0;34m'Epoch'\u001b[0m\u001b[0;34m)\u001b[0m\u001b[0;34m\u001b[0m\u001b[0;34m\u001b[0m\u001b[0m\n",
      "\u001b[0;31mNameError\u001b[0m: name 'losses_history' is not defined"
     ]
    },
    {
     "data": {
      "text/plain": [
       "<Figure size 1000x500 with 0 Axes>"
      ]
     },
     "metadata": {},
     "output_type": "display_data"
    }
   ],
   "source": [
    "# Plot training losses\n",
    "# plt.figure(figsize=(10, 5))\n",
    "# plt.plot([d['G_loss'] for d in losses_history], label='Generator')\n",
    "# plt.plot([d['D_loss'] for d in losses_history], label='Discriminator')\n",
    "# plt.xlabel('Epoch')\n",
    "# plt.ylabel('Loss')\n",
    "# plt.legend()\n",
    "# plt.title('Training Losses')\n",
    "# plt.show()"
   ]
  },
  {
   "cell_type": "code",
   "execution_count": null,
   "metadata": {
    "id": "541LvSZ-FRcc"
   },
   "outputs": [],
   "source": [
    "https://colab.research.google.com/drive/1k_GAfXpoVVr20G-UPbC90SYt4MoErZsC#gceVm=ftcdl-439312/us-central1-b/colab-1-vm"
   ]
  }
 ],
 "metadata": {
  "colab": {
   "provenance": []
  },
  "kernelspec": {
   "display_name": "Python 3",
   "name": "python3"
  },
  "language_info": {
   "name": "python"
  }
 },
 "nbformat": 4,
 "nbformat_minor": 0
}
